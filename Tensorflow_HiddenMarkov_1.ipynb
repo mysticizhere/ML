{
  "nbformat": 4,
  "nbformat_minor": 0,
  "metadata": {
    "colab": {
      "provenance": [],
      "authorship_tag": "ABX9TyNbTMFcnBTrMDM3tQpqKXwN",
      "include_colab_link": true
    },
    "kernelspec": {
      "name": "python3",
      "display_name": "Python 3"
    },
    "language_info": {
      "name": "python"
    }
  },
  "cells": [
    {
      "cell_type": "markdown",
      "metadata": {
        "id": "view-in-github",
        "colab_type": "text"
      },
      "source": [
        "<a href=\"https://colab.research.google.com/github/mysticizhere/ML/blob/main/Tensorflow_HiddenMarkov_1.ipynb\" target=\"_parent\"><img src=\"https://colab.research.google.com/assets/colab-badge.svg\" alt=\"Open In Colab\"/></a>"
      ]
    },
    {
      "cell_type": "code",
      "execution_count": 1,
      "metadata": {
        "colab": {
          "base_uri": "https://localhost:8080/"
        },
        "id": "WUZR0NYixHy-",
        "outputId": "3667648e-934c-46b3-8e66-9858701eafa9"
      },
      "outputs": [
        {
          "output_type": "stream",
          "name": "stdout",
          "text": [
            "Colab only includes TensorFlow 2.x; %tensorflow_version has no effect.\n"
          ]
        }
      ],
      "source": [
        "%tensorflow_version 2.x  # this line is not required unless you are in a notebook"
      ]
    },
    {
      "cell_type": "code",
      "source": [
        "!pip install tensorflow_probability==0.8.0rc0 --user --upgrade"
      ],
      "metadata": {
        "colab": {
          "base_uri": "https://localhost:8080/"
        },
        "id": "c5nOgCIBxlXS",
        "outputId": "70253a2d-b1e0-4b67-f8f2-e9a655bbf235"
      },
      "execution_count": 2,
      "outputs": [
        {
          "output_type": "stream",
          "name": "stdout",
          "text": [
            "Looking in indexes: https://pypi.org/simple, https://us-python.pkg.dev/colab-wheels/public/simple/\n",
            "Collecting tensorflow_probability==0.8.0rc0\n",
            "  Downloading tensorflow_probability-0.8.0rc0-py2.py3-none-any.whl (2.5 MB)\n",
            "\u001b[K     |████████████████████████████████| 2.5 MB 10.6 MB/s \n",
            "\u001b[?25hRequirement already satisfied: six>=1.10.0 in /usr/local/lib/python3.7/dist-packages (from tensorflow_probability==0.8.0rc0) (1.15.0)\n",
            "Requirement already satisfied: decorator in /usr/local/lib/python3.7/dist-packages (from tensorflow_probability==0.8.0rc0) (4.4.2)\n",
            "Collecting cloudpickle==1.1.1\n",
            "  Downloading cloudpickle-1.1.1-py2.py3-none-any.whl (17 kB)\n",
            "Requirement already satisfied: numpy>=1.13.3 in /usr/local/lib/python3.7/dist-packages (from tensorflow_probability==0.8.0rc0) (1.21.6)\n",
            "Installing collected packages: cloudpickle, tensorflow-probability\n",
            "\u001b[31mERROR: pip's dependency resolver does not currently take into account all the packages that are installed. This behaviour is the source of the following dependency conflicts.\n",
            "gym 0.25.2 requires cloudpickle>=1.2.0, but you have cloudpickle 1.1.1 which is incompatible.\n",
            "distributed 2022.2.0 requires cloudpickle>=1.5.0, but you have cloudpickle 1.1.1 which is incompatible.\u001b[0m\n",
            "Successfully installed cloudpickle-1.1.1 tensorflow-probability-0.8.0rc0\n"
          ]
        }
      ]
    },
    {
      "cell_type": "code",
      "source": [
        "import tensorflow_probability as tfp  # We are using a different module from tensorflow this time\n",
        "import tensorflow as tf"
      ],
      "metadata": {
        "id": "JVXU_W--xtNM"
      },
      "execution_count": 3,
      "outputs": []
    },
    {
      "cell_type": "markdown",
      "source": [
        "**Weather Model**"
      ],
      "metadata": {
        "id": "4MGgsH_7x0k-"
      }
    },
    {
      "cell_type": "markdown",
      "source": [
        "We will model a simple weather system and try to predict the temperature on each day given the following information.\n",
        "\n",
        "*   Cold days are encoded by a 0 and hot days are encoded by a 1.\n",
        "*   The first day in our sequence has an 80% chance of being cold.\n",
        "*   A cold day has a 30% chance of being followed by a hot day.\n",
        "*   A hot day has a 20% chance of being followed by a cold day.\n",
        "*   On each day the temperature is normally distributed with mean and standard deviation 0 and 5 on a cold day and mean and standard deviation 15 and 10 on a hot day.\n",
        "\n",
        "\n",
        "\n",
        "\n"
      ],
      "metadata": {
        "id": "sh9HHkWIzawx"
      }
    },
    {
      "cell_type": "code",
      "source": [
        "tfd = tfp.distributions  # making a shortcut for later on\n",
        "initial_distribution = tfd.Categorical(probs=[0.8, 0.2])  # Refer to point 2 above\n",
        "transition_distribution = tfd.Categorical(probs=[[0.9, 0.1],\n",
        "                                                 [0.5, 0.5]])  # refer to points 3 and 4 above\n",
        "observation_distribution = tfd.Normal(loc=[0., 30.], scale=[5., 15.])  # refer to point 5 above\n",
        "\n",
        "# the loc argument represents the mean and the scale is the standard devitation"
      ],
      "metadata": {
        "id": "GHZ0BK6ex0RS"
      },
      "execution_count": 31,
      "outputs": []
    },
    {
      "cell_type": "markdown",
      "source": [
        "We've now created distribution variables to model our system and it's time to create the hidden markov model."
      ],
      "metadata": {
        "id": "U2IPkX4j1BIh"
      }
    },
    {
      "cell_type": "code",
      "source": [
        "model = tfd.HiddenMarkovModel(\n",
        "    initial_distribution=initial_distribution,\n",
        "    transition_distribution=transition_distribution,\n",
        "    observation_distribution=observation_distribution,\n",
        "    num_steps=335)\n",
        "#num_steps is the number of times the model will predict the values for, \n",
        "#for this example its the number of days for which it will predict the temperature for"
      ],
      "metadata": {
        "id": "U2jqzC0zzd7b"
      },
      "execution_count": 32,
      "outputs": []
    },
    {
      "cell_type": "markdown",
      "source": [
        "Lets see the output !"
      ],
      "metadata": {
        "id": "oF8uyzXB1-rc"
      }
    },
    {
      "cell_type": "code",
      "source": [
        "mean = model.mean()\n",
        "\n",
        "# due to the way TensorFlow works on a lower level we need to evaluate part of the graph\n",
        "# from within a session to see the value of this tensor\n",
        "\n",
        "# in the new version of tensorflow we need to use tf.compat.v1.Session() rather than just tf.Session()\n",
        "with tf.compat.v1.Session() as sess:  \n",
        "  print(mean.numpy())"
      ],
      "metadata": {
        "colab": {
          "base_uri": "https://localhost:8080/"
        },
        "id": "GINArf1F2Adv",
        "outputId": "1e665322-be28-4917-ccc9-0661baf48f95"
      },
      "execution_count": 33,
      "outputs": [
        {
          "output_type": "stream",
          "name": "stdout",
          "text": [
            "[5.9999995 5.3999996 5.16      5.064     5.0255985 5.0102386 5.0040956\n",
            " 5.0016375 5.0006547 5.0002604 5.0001025 5.000039  5.000014  5.0000043\n",
            " 4.9999995 4.999998  4.999997  4.999997  4.999997  4.999997  4.999997\n",
            " 4.999997  4.999997  4.999997  4.999997  4.999997  4.999997  4.999997\n",
            " 4.999997  4.999997  4.999997  4.999997  4.999997  4.999997  4.999997\n",
            " 4.999997  4.999997  4.999997  4.999997  4.999997  4.999997  4.999997\n",
            " 4.999997  4.999997  4.999997  4.999997  4.999997  4.999997  4.999997\n",
            " 4.999997  4.999997  4.999997  4.999997  4.999997  4.999997  4.999997\n",
            " 4.999997  4.999997  4.999997  4.999997  4.999997  4.999997  4.999997\n",
            " 4.999997  4.999997  4.999997  4.999997  4.999997  4.999997  4.999997\n",
            " 4.999997  4.999997  4.999997  4.999997  4.999997  4.999997  4.999997\n",
            " 4.999997  4.999997  4.999997  4.999997  4.999997  4.999997  4.999997\n",
            " 4.999997  4.999997  4.999997  4.999997  4.999997  4.999997  4.999997\n",
            " 4.999997  4.999997  4.999997  4.999997  4.999997  4.999997  4.999997\n",
            " 4.999997  4.999997  4.999997  4.999997  4.999997  4.999997  4.999997\n",
            " 4.999997  4.999997  4.999997  4.999997  4.999997  4.999997  4.999997\n",
            " 4.999997  4.999997  4.999997  4.999997  4.999997  4.999997  4.999997\n",
            " 4.999997  4.999997  4.999997  4.999997  4.999997  4.999997  4.999997\n",
            " 4.999997  4.999997  4.999997  4.999997  4.999997  4.999997  4.999997\n",
            " 4.999997  4.999997  4.999997  4.999997  4.999997  4.999997  4.999997\n",
            " 4.999997  4.999997  4.999997  4.999997  4.999997  4.999997  4.999997\n",
            " 4.999997  4.999997  4.999997  4.999997  4.999997  4.999997  4.999997\n",
            " 4.999997  4.999997  4.999997  4.999997  4.999997  4.999997  4.999997\n",
            " 4.999997  4.999997  4.999997  4.999997  4.999997  4.999997  4.999997\n",
            " 4.999997  4.999997  4.999997  4.999997  4.999997  4.999997  4.999997\n",
            " 4.999997  4.999997  4.999997  4.999997  4.999997  4.999997  4.999997\n",
            " 4.999997  4.999997  4.999997  4.999997  4.999997  4.999997  4.999997\n",
            " 4.999997  4.999997  4.999997  4.999997  4.999997  4.999997  4.999997\n",
            " 4.999997  4.999997  4.999997  4.999997  4.999997  4.999997  4.999997\n",
            " 4.999997  4.999997  4.999997  4.999997  4.999997  4.999997  4.999997\n",
            " 4.999997  4.999997  4.999997  4.999997  4.999997  4.999997  4.999997\n",
            " 4.999997  4.999997  4.999997  4.999997  4.999997  4.999997  4.999997\n",
            " 4.999997  4.999997  4.999997  4.999997  4.999997  4.999997  4.999997\n",
            " 4.999997  4.999997  4.999997  4.999997  4.999997  4.999997  4.999997\n",
            " 4.999997  4.999997  4.999997  4.999997  4.999997  4.999997  4.999997\n",
            " 4.999997  4.999997  4.999997  4.999997  4.999997  4.999997  4.999997\n",
            " 4.999997  4.999997  4.999997  4.999997  4.999997  4.999997  4.999997\n",
            " 4.999997  4.999997  4.999997  4.999997  4.999997  4.999997  4.999997\n",
            " 4.999997  4.999997  4.999997  4.999997  4.999997  4.999997  4.999997\n",
            " 4.999997  4.999997  4.999997  4.999997  4.999997  4.999997  4.999997\n",
            " 4.999997  4.999997  4.999997  4.999997  4.999997  4.999997  4.999997\n",
            " 4.999997  4.999997  4.999997  4.999997  4.999997  4.999997  4.999997\n",
            " 4.999997  4.999997  4.999997  4.999997  4.999997  4.999997  4.999997\n",
            " 4.999997  4.999997  4.999997  4.999997  4.999997  4.999997  4.999997\n",
            " 4.999997  4.999997  4.999997  4.999997  4.999997  4.999997  4.999997\n",
            " 4.999997  4.999997  4.999997  4.999997  4.999997  4.999997  4.999997\n",
            " 4.999997  4.999997  4.999997  4.999997  4.999997  4.999997  4.999997\n",
            " 4.999997  4.999997  4.999997  4.999997  4.999997  4.999997 ]\n"
          ]
        }
      ]
    },
    {
      "cell_type": "markdown",
      "source": [
        "The above are the expected temperatures for next seven days !"
      ],
      "metadata": {
        "id": "NhHdDr_K2Vdm"
      }
    }
  ]
}