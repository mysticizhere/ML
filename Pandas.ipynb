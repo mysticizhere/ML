{
  "nbformat": 4,
  "nbformat_minor": 0,
  "metadata": {
    "colab": {
      "name": "Pandas.ipynb",
      "provenance": [],
      "authorship_tag": "ABX9TyO3FkZKgQCSQlrOQAXe/1nJ",
      "include_colab_link": true
    },
    "kernelspec": {
      "name": "python3",
      "display_name": "Python 3"
    },
    "language_info": {
      "name": "python"
    }
  },
  "cells": [
    {
      "cell_type": "markdown",
      "metadata": {
        "id": "view-in-github",
        "colab_type": "text"
      },
      "source": [
        "<a href=\"https://colab.research.google.com/github/mysticizhere/ML/blob/main/Pandas.ipynb\" target=\"_parent\"><img src=\"https://colab.research.google.com/assets/colab-badge.svg\" alt=\"Open In Colab\"/></a>"
      ]
    },
    {
      "cell_type": "code",
      "execution_count": 1,
      "metadata": {
        "id": "fPOrYAAVGd97"
      },
      "outputs": [],
      "source": [
        "import numpy as np\n",
        "import pandas as pd"
      ]
    },
    {
      "cell_type": "code",
      "source": [
        "df = pd.read_csv('pokemon_data.csv')"
      ],
      "metadata": {
        "id": "ubUCLYVIHuom"
      },
      "execution_count": 3,
      "outputs": []
    },
    {
      "cell_type": "code",
      "source": [
        "print(df)"
      ],
      "metadata": {
        "colab": {
          "base_uri": "https://localhost:8080/"
        },
        "id": "6Dfop6gMJDai",
        "outputId": "702ccf36-bc98-4660-dbac-0247b56d27bd"
      },
      "execution_count": 6,
      "outputs": [
        {
          "output_type": "stream",
          "name": "stdout",
          "text": [
            "       #                   Name   Type 1  Type 2  HP  Attack  Defense  \\\n",
            "0      1              Bulbasaur    Grass  Poison  45      49       49   \n",
            "1      2                Ivysaur    Grass  Poison  60      62       63   \n",
            "2      3               Venusaur    Grass  Poison  80      82       83   \n",
            "3      3  VenusaurMega Venusaur    Grass  Poison  80     100      123   \n",
            "4      4             Charmander     Fire     NaN  39      52       43   \n",
            "..   ...                    ...      ...     ...  ..     ...      ...   \n",
            "795  719                Diancie     Rock   Fairy  50     100      150   \n",
            "796  719    DiancieMega Diancie     Rock   Fairy  50     160      110   \n",
            "797  720    HoopaHoopa Confined  Psychic   Ghost  80     110       60   \n",
            "798  720     HoopaHoopa Unbound  Psychic    Dark  80     160       60   \n",
            "799  721              Volcanion     Fire   Water  80     110      120   \n",
            "\n",
            "     Sp. Atk  Sp. Def  Speed  Generation  Legendary  \n",
            "0         65       65     45           1      False  \n",
            "1         80       80     60           1      False  \n",
            "2        100      100     80           1      False  \n",
            "3        122      120     80           1      False  \n",
            "4         60       50     65           1      False  \n",
            "..       ...      ...    ...         ...        ...  \n",
            "795      100      150     50           6       True  \n",
            "796      160      110    110           6       True  \n",
            "797      150      130     70           6       True  \n",
            "798      170      130     80           6       True  \n",
            "799      130       90     70           6       True  \n",
            "\n",
            "[800 rows x 12 columns]\n"
          ]
        }
      ]
    },
    {
      "cell_type": "markdown",
      "source": [
        "**Reading Data**"
      ],
      "metadata": {
        "id": "y9uy4_sdBLCj"
      }
    },
    {
      "cell_type": "code",
      "source": [
        "# Reading Headers\n",
        "print(df.columns)"
      ],
      "metadata": {
        "colab": {
          "base_uri": "https://localhost:8080/"
        },
        "id": "Mv2uXD8cJHga",
        "outputId": "76c3875a-fe39-45ba-de4a-9e27d4b575b5"
      },
      "execution_count": 5,
      "outputs": [
        {
          "output_type": "stream",
          "name": "stdout",
          "text": [
            "Index(['#', 'Name', 'Type 1', 'Type 2', 'HP', 'Attack', 'Defense', 'Sp. Atk',\n",
            "       'Sp. Def', 'Speed', 'Generation', 'Legendary'],\n",
            "      dtype='object')\n"
          ]
        }
      ]
    },
    {
      "cell_type": "code",
      "source": [
        "# Read Each Column\n",
        "print(df['Name'])"
      ],
      "metadata": {
        "colab": {
          "base_uri": "https://localhost:8080/"
        },
        "id": "mwp_I-VBBSgW",
        "outputId": "892cea4e-93d0-4e48-9399-80041b89fc5b"
      },
      "execution_count": 7,
      "outputs": [
        {
          "output_type": "stream",
          "name": "stdout",
          "text": [
            "0                  Bulbasaur\n",
            "1                    Ivysaur\n",
            "2                   Venusaur\n",
            "3      VenusaurMega Venusaur\n",
            "4                 Charmander\n",
            "               ...          \n",
            "795                  Diancie\n",
            "796      DiancieMega Diancie\n",
            "797      HoopaHoopa Confined\n",
            "798       HoopaHoopa Unbound\n",
            "799                Volcanion\n",
            "Name: Name, Length: 800, dtype: object\n"
          ]
        }
      ]
    },
    {
      "cell_type": "code",
      "source": [
        "# Multiple Columns\n",
        "print(df[['Name', 'Type 1', 'Speed']])"
      ],
      "metadata": {
        "colab": {
          "base_uri": "https://localhost:8080/"
        },
        "id": "xfAuRzt4GSAS",
        "outputId": "f9b4fc58-db3e-481c-c24d-03c09b9bea60"
      },
      "execution_count": 8,
      "outputs": [
        {
          "output_type": "stream",
          "name": "stdout",
          "text": [
            "                      Name   Type 1  Speed\n",
            "0                Bulbasaur    Grass     45\n",
            "1                  Ivysaur    Grass     60\n",
            "2                 Venusaur    Grass     80\n",
            "3    VenusaurMega Venusaur    Grass     80\n",
            "4               Charmander     Fire     65\n",
            "..                     ...      ...    ...\n",
            "795                Diancie     Rock     50\n",
            "796    DiancieMega Diancie     Rock    110\n",
            "797    HoopaHoopa Confined  Psychic     70\n",
            "798     HoopaHoopa Unbound  Psychic     80\n",
            "799              Volcanion     Fire     70\n",
            "\n",
            "[800 rows x 3 columns]\n"
          ]
        }
      ]
    },
    {
      "cell_type": "code",
      "source": [
        "# Read Each Row\n",
        "print(df.iloc[0])"
      ],
      "metadata": {
        "colab": {
          "base_uri": "https://localhost:8080/"
        },
        "id": "GSJL38NpGrSc",
        "outputId": "372d5bcf-44ad-43f2-f947-ee46b58a5de8"
      },
      "execution_count": 9,
      "outputs": [
        {
          "output_type": "stream",
          "name": "stdout",
          "text": [
            "#                     1\n",
            "Name          Bulbasaur\n",
            "Type 1            Grass\n",
            "Type 2           Poison\n",
            "HP                   45\n",
            "Attack               49\n",
            "Defense              49\n",
            "Sp. Atk              65\n",
            "Sp. Def              65\n",
            "Speed                45\n",
            "Generation            1\n",
            "Legendary         False\n",
            "Name: 0, dtype: object\n"
          ]
        }
      ]
    },
    {
      "cell_type": "code",
      "source": [
        "# Multiple Rows \n",
        "print(df.iloc[0:4])"
      ],
      "metadata": {
        "colab": {
          "base_uri": "https://localhost:8080/"
        },
        "id": "UeYhdQjNHDgu",
        "outputId": "e1e47c08-accd-43a2-8e7d-9954b54dc5a8"
      },
      "execution_count": 10,
      "outputs": [
        {
          "output_type": "stream",
          "name": "stdout",
          "text": [
            "   #                   Name Type 1  Type 2  HP  Attack  Defense  Sp. Atk  \\\n",
            "0  1              Bulbasaur  Grass  Poison  45      49       49       65   \n",
            "1  2                Ivysaur  Grass  Poison  60      62       63       80   \n",
            "2  3               Venusaur  Grass  Poison  80      82       83      100   \n",
            "3  3  VenusaurMega Venusaur  Grass  Poison  80     100      123      122   \n",
            "\n",
            "   Sp. Def  Speed  Generation  Legendary  \n",
            "0       65     45           1      False  \n",
            "1       80     60           1      False  \n",
            "2      100     80           1      False  \n",
            "3      120     80           1      False  \n"
          ]
        }
      ]
    },
    {
      "cell_type": "code",
      "source": [],
      "metadata": {
        "id": "14K223sFHLxX"
      },
      "execution_count": null,
      "outputs": []
    }
  ]
}