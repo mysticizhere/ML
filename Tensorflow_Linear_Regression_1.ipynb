{
  "nbformat": 4,
  "nbformat_minor": 0,
  "metadata": {
    "colab": {
      "provenance": [],
      "authorship_tag": "ABX9TyOaM2Z8oddrHJwh7BRyq79E",
      "include_colab_link": true
    },
    "kernelspec": {
      "name": "python3",
      "display_name": "Python 3"
    },
    "language_info": {
      "name": "python"
    }
  },
  "cells": [
    {
      "cell_type": "markdown",
      "metadata": {
        "id": "view-in-github",
        "colab_type": "text"
      },
      "source": [
        "<a href=\"https://colab.research.google.com/github/mysticizhere/ML/blob/main/Tensorflow_Linear_Regression_1.ipynb\" target=\"_parent\"><img src=\"https://colab.research.google.com/assets/colab-badge.svg\" alt=\"Open In Colab\"/></a>"
      ]
    },
    {
      "cell_type": "markdown",
      "source": [
        "**Importing libraries**"
      ],
      "metadata": {
        "id": "7XEw2usfXirD"
      }
    },
    {
      "cell_type": "code",
      "execution_count": 1,
      "metadata": {
        "colab": {
          "base_uri": "https://localhost:8080/"
        },
        "id": "t6Gu3ZUSXBKT",
        "outputId": "01a77638-4333-4718-b1da-3dd69ad4a89f"
      },
      "outputs": [
        {
          "output_type": "stream",
          "name": "stdout",
          "text": [
            "Looking in indexes: https://pypi.org/simple, https://us-python.pkg.dev/colab-wheels/public/simple/\n",
            "Collecting sklearn\n",
            "  Downloading sklearn-0.0.tar.gz (1.1 kB)\n",
            "Requirement already satisfied: scikit-learn in /usr/local/lib/python3.7/dist-packages (from sklearn) (1.0.2)\n",
            "Requirement already satisfied: joblib>=0.11 in /usr/local/lib/python3.7/dist-packages (from scikit-learn->sklearn) (1.1.0)\n",
            "Requirement already satisfied: numpy>=1.14.6 in /usr/local/lib/python3.7/dist-packages (from scikit-learn->sklearn) (1.21.6)\n",
            "Requirement already satisfied: threadpoolctl>=2.0.0 in /usr/local/lib/python3.7/dist-packages (from scikit-learn->sklearn) (3.1.0)\n",
            "Requirement already satisfied: scipy>=1.1.0 in /usr/local/lib/python3.7/dist-packages (from scikit-learn->sklearn) (1.7.3)\n",
            "Building wheels for collected packages: sklearn\n",
            "  Building wheel for sklearn (setup.py) ... \u001b[?25l\u001b[?25hdone\n",
            "  Created wheel for sklearn: filename=sklearn-0.0-py2.py3-none-any.whl size=1310 sha256=2d324da6093b07afaff26d69288cdaedab8854c55dd9867d5158e83b098fc8ea\n",
            "  Stored in directory: /root/.cache/pip/wheels/46/ef/c3/157e41f5ee1372d1be90b09f74f82b10e391eaacca8f22d33e\n",
            "Successfully built sklearn\n",
            "Installing collected packages: sklearn\n",
            "Successfully installed sklearn-0.0\n"
          ]
        }
      ],
      "source": [
        "pip install sklearn"
      ]
    },
    {
      "cell_type": "code",
      "source": [
        "import os\n",
        "import sys\n",
        "\n",
        "import numpy as np\n",
        "import pandas as pd\n",
        "import matplotlib.pyplot as plt\n",
        "from IPython.display import clear_output\n",
        "from six.moves import urllib"
      ],
      "metadata": {
        "id": "HwZdqmBIXXkX"
      },
      "execution_count": 2,
      "outputs": []
    },
    {
      "cell_type": "code",
      "source": [
        "import tensorflow.compat.v2.feature_column as fc\n",
        "\n",
        "import tensorflow as tf"
      ],
      "metadata": {
        "id": "zC3BHnLjXYdO"
      },
      "execution_count": 3,
      "outputs": []
    },
    {
      "cell_type": "markdown",
      "source": [
        "**Data Set**"
      ],
      "metadata": {
        "id": "ijQF54OkXpPz"
      }
    },
    {
      "cell_type": "code",
      "source": [
        "dftrain = pd.read_csv('https://storage.googleapis.com/tf-datasets/titanic/train.csv')\n",
        "dfeval = pd.read_csv('https://storage.googleapis.com/tf-datasets/titanic/eval.csv')\n",
        "y_train = dftrain.pop('survived')\n",
        "y_eval = dfeval.pop('survived')"
      ],
      "metadata": {
        "id": "-t2GTxjPXgnQ"
      },
      "execution_count": 4,
      "outputs": []
    },
    {
      "cell_type": "code",
      "source": [
        "dftrain.head()"
      ],
      "metadata": {
        "colab": {
          "base_uri": "https://localhost:8080/",
          "height": 206
        },
        "id": "zxiY_3mcXz7r",
        "outputId": "78985ccd-09f0-4b7f-a42a-05571586f478"
      },
      "execution_count": 5,
      "outputs": [
        {
          "output_type": "execute_result",
          "data": {
            "text/plain": [
              "      sex   age  n_siblings_spouses  parch     fare  class     deck  \\\n",
              "0    male  22.0                   1      0   7.2500  Third  unknown   \n",
              "1  female  38.0                   1      0  71.2833  First        C   \n",
              "2  female  26.0                   0      0   7.9250  Third  unknown   \n",
              "3  female  35.0                   1      0  53.1000  First        C   \n",
              "4    male  28.0                   0      0   8.4583  Third  unknown   \n",
              "\n",
              "   embark_town alone  \n",
              "0  Southampton     n  \n",
              "1    Cherbourg     n  \n",
              "2  Southampton     y  \n",
              "3  Southampton     n  \n",
              "4   Queenstown     y  "
            ],
            "text/html": [
              "\n",
              "  <div id=\"df-b8d05383-441e-41cb-8848-b3df78313d44\">\n",
              "    <div class=\"colab-df-container\">\n",
              "      <div>\n",
              "<style scoped>\n",
              "    .dataframe tbody tr th:only-of-type {\n",
              "        vertical-align: middle;\n",
              "    }\n",
              "\n",
              "    .dataframe tbody tr th {\n",
              "        vertical-align: top;\n",
              "    }\n",
              "\n",
              "    .dataframe thead th {\n",
              "        text-align: right;\n",
              "    }\n",
              "</style>\n",
              "<table border=\"1\" class=\"dataframe\">\n",
              "  <thead>\n",
              "    <tr style=\"text-align: right;\">\n",
              "      <th></th>\n",
              "      <th>sex</th>\n",
              "      <th>age</th>\n",
              "      <th>n_siblings_spouses</th>\n",
              "      <th>parch</th>\n",
              "      <th>fare</th>\n",
              "      <th>class</th>\n",
              "      <th>deck</th>\n",
              "      <th>embark_town</th>\n",
              "      <th>alone</th>\n",
              "    </tr>\n",
              "  </thead>\n",
              "  <tbody>\n",
              "    <tr>\n",
              "      <th>0</th>\n",
              "      <td>male</td>\n",
              "      <td>22.0</td>\n",
              "      <td>1</td>\n",
              "      <td>0</td>\n",
              "      <td>7.2500</td>\n",
              "      <td>Third</td>\n",
              "      <td>unknown</td>\n",
              "      <td>Southampton</td>\n",
              "      <td>n</td>\n",
              "    </tr>\n",
              "    <tr>\n",
              "      <th>1</th>\n",
              "      <td>female</td>\n",
              "      <td>38.0</td>\n",
              "      <td>1</td>\n",
              "      <td>0</td>\n",
              "      <td>71.2833</td>\n",
              "      <td>First</td>\n",
              "      <td>C</td>\n",
              "      <td>Cherbourg</td>\n",
              "      <td>n</td>\n",
              "    </tr>\n",
              "    <tr>\n",
              "      <th>2</th>\n",
              "      <td>female</td>\n",
              "      <td>26.0</td>\n",
              "      <td>0</td>\n",
              "      <td>0</td>\n",
              "      <td>7.9250</td>\n",
              "      <td>Third</td>\n",
              "      <td>unknown</td>\n",
              "      <td>Southampton</td>\n",
              "      <td>y</td>\n",
              "    </tr>\n",
              "    <tr>\n",
              "      <th>3</th>\n",
              "      <td>female</td>\n",
              "      <td>35.0</td>\n",
              "      <td>1</td>\n",
              "      <td>0</td>\n",
              "      <td>53.1000</td>\n",
              "      <td>First</td>\n",
              "      <td>C</td>\n",
              "      <td>Southampton</td>\n",
              "      <td>n</td>\n",
              "    </tr>\n",
              "    <tr>\n",
              "      <th>4</th>\n",
              "      <td>male</td>\n",
              "      <td>28.0</td>\n",
              "      <td>0</td>\n",
              "      <td>0</td>\n",
              "      <td>8.4583</td>\n",
              "      <td>Third</td>\n",
              "      <td>unknown</td>\n",
              "      <td>Queenstown</td>\n",
              "      <td>y</td>\n",
              "    </tr>\n",
              "  </tbody>\n",
              "</table>\n",
              "</div>\n",
              "      <button class=\"colab-df-convert\" onclick=\"convertToInteractive('df-b8d05383-441e-41cb-8848-b3df78313d44')\"\n",
              "              title=\"Convert this dataframe to an interactive table.\"\n",
              "              style=\"display:none;\">\n",
              "        \n",
              "  <svg xmlns=\"http://www.w3.org/2000/svg\" height=\"24px\"viewBox=\"0 0 24 24\"\n",
              "       width=\"24px\">\n",
              "    <path d=\"M0 0h24v24H0V0z\" fill=\"none\"/>\n",
              "    <path d=\"M18.56 5.44l.94 2.06.94-2.06 2.06-.94-2.06-.94-.94-2.06-.94 2.06-2.06.94zm-11 1L8.5 8.5l.94-2.06 2.06-.94-2.06-.94L8.5 2.5l-.94 2.06-2.06.94zm10 10l.94 2.06.94-2.06 2.06-.94-2.06-.94-.94-2.06-.94 2.06-2.06.94z\"/><path d=\"M17.41 7.96l-1.37-1.37c-.4-.4-.92-.59-1.43-.59-.52 0-1.04.2-1.43.59L10.3 9.45l-7.72 7.72c-.78.78-.78 2.05 0 2.83L4 21.41c.39.39.9.59 1.41.59.51 0 1.02-.2 1.41-.59l7.78-7.78 2.81-2.81c.8-.78.8-2.07 0-2.86zM5.41 20L4 18.59l7.72-7.72 1.47 1.35L5.41 20z\"/>\n",
              "  </svg>\n",
              "      </button>\n",
              "      \n",
              "  <style>\n",
              "    .colab-df-container {\n",
              "      display:flex;\n",
              "      flex-wrap:wrap;\n",
              "      gap: 12px;\n",
              "    }\n",
              "\n",
              "    .colab-df-convert {\n",
              "      background-color: #E8F0FE;\n",
              "      border: none;\n",
              "      border-radius: 50%;\n",
              "      cursor: pointer;\n",
              "      display: none;\n",
              "      fill: #1967D2;\n",
              "      height: 32px;\n",
              "      padding: 0 0 0 0;\n",
              "      width: 32px;\n",
              "    }\n",
              "\n",
              "    .colab-df-convert:hover {\n",
              "      background-color: #E2EBFA;\n",
              "      box-shadow: 0px 1px 2px rgba(60, 64, 67, 0.3), 0px 1px 3px 1px rgba(60, 64, 67, 0.15);\n",
              "      fill: #174EA6;\n",
              "    }\n",
              "\n",
              "    [theme=dark] .colab-df-convert {\n",
              "      background-color: #3B4455;\n",
              "      fill: #D2E3FC;\n",
              "    }\n",
              "\n",
              "    [theme=dark] .colab-df-convert:hover {\n",
              "      background-color: #434B5C;\n",
              "      box-shadow: 0px 1px 3px 1px rgba(0, 0, 0, 0.15);\n",
              "      filter: drop-shadow(0px 1px 2px rgba(0, 0, 0, 0.3));\n",
              "      fill: #FFFFFF;\n",
              "    }\n",
              "  </style>\n",
              "\n",
              "      <script>\n",
              "        const buttonEl =\n",
              "          document.querySelector('#df-b8d05383-441e-41cb-8848-b3df78313d44 button.colab-df-convert');\n",
              "        buttonEl.style.display =\n",
              "          google.colab.kernel.accessAllowed ? 'block' : 'none';\n",
              "\n",
              "        async function convertToInteractive(key) {\n",
              "          const element = document.querySelector('#df-b8d05383-441e-41cb-8848-b3df78313d44');\n",
              "          const dataTable =\n",
              "            await google.colab.kernel.invokeFunction('convertToInteractive',\n",
              "                                                     [key], {});\n",
              "          if (!dataTable) return;\n",
              "\n",
              "          const docLinkHtml = 'Like what you see? Visit the ' +\n",
              "            '<a target=\"_blank\" href=https://colab.research.google.com/notebooks/data_table.ipynb>data table notebook</a>'\n",
              "            + ' to learn more about interactive tables.';\n",
              "          element.innerHTML = '';\n",
              "          dataTable['output_type'] = 'display_data';\n",
              "          await google.colab.output.renderOutput(dataTable, element);\n",
              "          const docLink = document.createElement('div');\n",
              "          docLink.innerHTML = docLinkHtml;\n",
              "          element.appendChild(docLink);\n",
              "        }\n",
              "      </script>\n",
              "    </div>\n",
              "  </div>\n",
              "  "
            ]
          },
          "metadata": {},
          "execution_count": 5
        }
      ]
    },
    {
      "cell_type": "code",
      "source": [
        "dftrain.loc[0]"
      ],
      "metadata": {
        "colab": {
          "base_uri": "https://localhost:8080/"
        },
        "id": "uk6_PK7xYIUQ",
        "outputId": "63f7d556-433d-4cc2-d537-a4de73d3a0fa"
      },
      "execution_count": 6,
      "outputs": [
        {
          "output_type": "execute_result",
          "data": {
            "text/plain": [
              "sex                          male\n",
              "age                          22.0\n",
              "n_siblings_spouses              1\n",
              "parch                           0\n",
              "fare                         7.25\n",
              "class                       Third\n",
              "deck                      unknown\n",
              "embark_town           Southampton\n",
              "alone                           n\n",
              "Name: 0, dtype: object"
            ]
          },
          "metadata": {},
          "execution_count": 6
        }
      ]
    },
    {
      "cell_type": "code",
      "source": [
        "y_train\n"
      ],
      "metadata": {
        "colab": {
          "base_uri": "https://localhost:8080/"
        },
        "id": "9MoTRdSHYK8H",
        "outputId": "478cb604-93e4-40f3-af94-3e2b3638cda1"
      },
      "execution_count": 7,
      "outputs": [
        {
          "output_type": "execute_result",
          "data": {
            "text/plain": [
              "0      0\n",
              "1      1\n",
              "2      1\n",
              "3      1\n",
              "4      0\n",
              "      ..\n",
              "622    0\n",
              "623    0\n",
              "624    1\n",
              "625    0\n",
              "626    0\n",
              "Name: survived, Length: 627, dtype: int64"
            ]
          },
          "metadata": {},
          "execution_count": 7
        }
      ]
    },
    {
      "cell_type": "code",
      "source": [
        "dftrain.shape"
      ],
      "metadata": {
        "colab": {
          "base_uri": "https://localhost:8080/"
        },
        "id": "NdoOGkv6bICH",
        "outputId": "d550cce0-d856-4aef-ef6c-6cb49512fc1a"
      },
      "execution_count": 8,
      "outputs": [
        {
          "output_type": "execute_result",
          "data": {
            "text/plain": [
              "(627, 9)"
            ]
          },
          "metadata": {},
          "execution_count": 8
        }
      ]
    },
    {
      "cell_type": "code",
      "source": [
        "y_train.shape"
      ],
      "metadata": {
        "colab": {
          "base_uri": "https://localhost:8080/"
        },
        "id": "3EVcXtcUbJ3n",
        "outputId": "0c615e2e-05c2-441f-a94a-fdd138e2f996"
      },
      "execution_count": 9,
      "outputs": [
        {
          "output_type": "execute_result",
          "data": {
            "text/plain": [
              "(627,)"
            ]
          },
          "metadata": {},
          "execution_count": 9
        }
      ]
    },
    {
      "cell_type": "code",
      "source": [
        "dfeval.shape"
      ],
      "metadata": {
        "colab": {
          "base_uri": "https://localhost:8080/"
        },
        "id": "l53xvb6-bMia",
        "outputId": "d2b3289a-48d0-44eb-db2f-14dabe668e7f"
      },
      "execution_count": 10,
      "outputs": [
        {
          "output_type": "execute_result",
          "data": {
            "text/plain": [
              "(264, 9)"
            ]
          },
          "metadata": {},
          "execution_count": 10
        }
      ]
    },
    {
      "cell_type": "markdown",
      "source": [
        "**Visualizing the graph**"
      ],
      "metadata": {
        "id": "nuXrUWj2byv_"
      }
    },
    {
      "cell_type": "code",
      "source": [
        "dftrain.age.hist(bins=15)"
      ],
      "metadata": {
        "colab": {
          "base_uri": "https://localhost:8080/",
          "height": 283
        },
        "id": "PEeurs53bSJ9",
        "outputId": "83b515bb-d5e6-4267-c421-86297e3a9384"
      },
      "execution_count": 17,
      "outputs": [
        {
          "output_type": "execute_result",
          "data": {
            "text/plain": [
              "<matplotlib.axes._subplots.AxesSubplot at 0x7fbdd8f7e410>"
            ]
          },
          "metadata": {},
          "execution_count": 17
        },
        {
          "output_type": "display_data",
          "data": {
            "text/plain": [
              "<Figure size 432x288 with 1 Axes>"
            ],
            "image/png": "[encoded data removed]"
          },
          "metadata": {
            "needs_background": "light"
          }
        }
      ]
    },
    {
      "cell_type": "code",
      "source": [
        "dftrain.sex.value_counts().plot(kind='barh')"
      ],
      "metadata": {
        "colab": {
          "base_uri": "https://localhost:8080/",
          "height": 283
        },
        "id": "S87eR3v-bZ3y",
        "outputId": "b176006a-837e-41fd-cd4d-fe5614953d40"
      },
      "execution_count": 18,
      "outputs": [
        {
          "output_type": "execute_result",
          "data": {
            "text/plain": [
              "<matplotlib.axes._subplots.AxesSubplot at 0x7fbdd8eb4f10>"
            ]
          },
          "metadata": {},
          "execution_count": 18
        },
        {
          "output_type": "display_data",
          "data": {
            "text/plain": [
              "<Figure size 432x288 with 1 Axes>"
            ],
            "image/png": "[encoded data removed]"
          },
          "metadata": {
            "needs_background": "light"
          }
        }
      ]
    },
    {
      "cell_type": "code",
      "source": [
        "dftrain['class'].value_counts().plot(kind='barh')"
      ],
      "metadata": {
        "colab": {
          "base_uri": "https://localhost:8080/",
          "height": 283
        },
        "id": "nOtUhw-Vb30N",
        "outputId": "5a9f602e-d636-4dee-8a56-631f5afa35e7"
      },
      "execution_count": 19,
      "outputs": [
        {
          "output_type": "execute_result",
          "data": {
            "text/plain": [
              "<matplotlib.axes._subplots.AxesSubplot at 0x7fbddaee8e50>"
            ]
          },
          "metadata": {},
          "execution_count": 19
        },
        {
          "output_type": "display_data",
          "data": {
            "text/plain": [
              "<Figure size 432x288 with 1 Axes>"
            ],
            "image/png": "[encoded data removed]"
          },
          "metadata": {
            "needs_background": "light"
          }
        }
      ]
    },
    {
      "cell_type": "code",
      "source": [
        "pd.concat([dftrain, y_train], axis=1).groupby('sex').survived.mean().plot(kind='barh').set_xlabel('% survive')"
      ],
      "metadata": {
        "colab": {
          "base_uri": "https://localhost:8080/",
          "height": 297
        },
        "id": "yWKZBtZsb6SD",
        "outputId": "8e8a37cd-c9d6-40ec-d1a8-4901dbcedb98"
      },
      "execution_count": 20,
      "outputs": [
        {
          "output_type": "execute_result",
          "data": {
            "text/plain": [
              "Text(0.5, 0, '% survive')"
            ]
          },
          "metadata": {},
          "execution_count": 20
        },
        {
          "output_type": "display_data",
          "data": {
            "text/plain": [
              "<Figure size 432x288 with 1 Axes>"
            ],
            "image/png": "[encoded data removed]"
          },
          "metadata": {
            "needs_background": "light"
          }
        }
      ]
    },
    {
      "cell_type": "markdown",
      "source": [
        "**Feature Columns**"
      ],
      "metadata": {
        "id": "tif3N9f-cEYv"
      }
    },
    {
      "cell_type": "markdown",
      "source": [
        "We make categoriacal columns and numeric columns first"
      ],
      "metadata": {
        "id": "ThI8MsWbcKjh"
      }
    },
    {
      "cell_type": "markdown",
      "source": [
        "Then we make feature columns for each categorical and numerical "
      ],
      "metadata": {
        "id": "IAFMpZcLcRNV"
      }
    },
    {
      "cell_type": "code",
      "source": [
        "CATEGORICAL_COLUMNS = ['sex', 'n_siblings_spouses', 'parch', 'class', 'deck',\n",
        "                       'embark_town', 'alone']\n",
        "NUMERIC_COLUMNS = ['age', 'fare']\n",
        "\n",
        "feature_columns = []\n",
        "for feature_name in CATEGORICAL_COLUMNS:\n",
        "  vocabulary = dftrain[feature_name].unique()\n",
        "  feature_columns.append(tf.feature_column.categorical_column_with_vocabulary_list(feature_name, vocabulary))\n",
        "\n",
        "for feature_name in NUMERIC_COLUMNS:\n",
        "  feature_columns.append(tf.feature_column.numeric_column(feature_name, dtype=tf.float32))"
      ],
      "metadata": {
        "id": "p1ojbSaccBjI"
      },
      "execution_count": 21,
      "outputs": []
    },
    {
      "cell_type": "markdown",
      "source": [
        "**Input Function**"
      ],
      "metadata": {
        "id": "EK6WZIt7dKGO"
      }
    },
    {
      "cell_type": "markdown",
      "source": [
        "We make a function whose work is to make a function whenever it is called\n",
        "the inside function will divide dataset into batches, epochs and shuffle it.\n",
        "it will return a dataset whenever its called."
      ],
      "metadata": {
        "id": "lQRz43mqdNBo"
      }
    },
    {
      "cell_type": "code",
      "source": [
        "def make_input_fn(data_df, label_df, num_epochs=10, shuffle=True, batch_size=32):\n",
        "  def input_function():\n",
        "    ds = tf.data.Dataset.from_tensor_slices((dict(data_df), label_df))\n",
        "    if shuffle:\n",
        "      ds = ds.shuffle(1000)\n",
        "    ds = ds.batch(batch_size).repeat(num_epochs)\n",
        "    return ds\n",
        "  return input_function\n",
        "\n",
        "train_input_fn = make_input_fn(dftrain, y_train)\n",
        "eval_input_fn = make_input_fn(dfeval, y_eval, num_epochs=1, shuffle=False)"
      ],
      "metadata": {
        "id": "Q2l1mpVXdG4I"
      },
      "execution_count": 22,
      "outputs": []
    },
    {
      "cell_type": "markdown",
      "source": [
        "**Using estimators to feed data and get result**"
      ],
      "metadata": {
        "id": "0_SCKkOWd5he"
      }
    },
    {
      "cell_type": "code",
      "source": [
        "linear_est = tf.estimator.LinearClassifier(feature_columns=feature_columns)\n",
        "linear_est.train(train_input_fn)\n",
        "result = linear_est.evaluate(eval_input_fn)"
      ],
      "metadata": {
        "colab": {
          "base_uri": "https://localhost:8080/"
        },
        "id": "Qyl21-_fdpxh",
        "outputId": "71dd14e3-ee6e-47d1-f6e4-dfae8ea39111"
      },
      "execution_count": 27,
      "outputs": [
        {
          "output_type": "stream",
          "name": "stderr",
          "text": [
            "WARNING:tensorflow:Using temporary folder as model directory: /tmp/tmphkop9i8e\n"
          ]
        }
      ]
    },
    {
      "cell_type": "code",
      "source": [
        "print(result['accuracy'])"
      ],
      "metadata": {
        "colab": {
          "base_uri": "https://localhost:8080/"
        },
        "id": "VvKHjNxJepSE",
        "outputId": "e110eeed-55e0-457c-878f-4254bc0b9295"
      },
      "execution_count": 28,
      "outputs": [
        {
          "output_type": "stream",
          "name": "stdout",
          "text": [
            "0.75\n"
          ]
        }
      ]
    },
    {
      "cell_type": "markdown",
      "source": [
        "Our model here has a 75% accuracy in predicting the right outcome"
      ],
      "metadata": {
        "id": "cDvwOn6Ie6Zg"
      }
    },
    {
      "cell_type": "markdown",
      "source": [
        "To check specific chances of individuals we can do as follows :"
      ],
      "metadata": {
        "id": "nye960KUfAGd"
      }
    },
    {
      "cell_type": "code",
      "source": [
        "r = list(linear_est.predict(eval_input_fn))\n",
        "def funn(x):\n",
        "  print(dfeval.loc[x])\n",
        "  print(y_eval.loc[x])\n",
        "  print(r[x]['probabilities'][1])"
      ],
      "metadata": {
        "colab": {
          "base_uri": "https://localhost:8080/"
        },
        "id": "lWJLJJwCe_i9",
        "outputId": "bfa549dd-5581-4801-ab2e-a43aef9b491a"
      },
      "execution_count": 31,
      "outputs": [
        {
          "output_type": "stream",
          "name": "stderr",
          "text": [
            "/usr/local/lib/python3.7/dist-packages/tensorflow_estimator/python/estimator/canned/linear.py:1478: UserWarning: `layer.add_variable` is deprecated and will be removed in a future version. Please use `layer.add_weight` method instead.\n",
            "  getter=tf.compat.v1.get_variable)\n"
          ]
        }
      ]
    },
    {
      "cell_type": "code",
      "source": [
        "for i in range(10):\n",
        "  funn(i)"
      ],
      "metadata": {
        "colab": {
          "base_uri": "https://localhost:8080/"
        },
        "id": "ciOj8683gVts",
        "outputId": "5d768834-172e-4449-a965-794691b50856"
      },
      "execution_count": 32,
      "outputs": [
        {
          "output_type": "stream",
          "name": "stdout",
          "text": [
            "sex                          male\n",
            "age                          35.0\n",
            "n_siblings_spouses              0\n",
            "parch                           0\n",
            "fare                         8.05\n",
            "class                       Third\n",
            "deck                      unknown\n",
            "embark_town           Southampton\n",
            "alone                           y\n",
            "Name: 0, dtype: object\n",
            "0\n",
            "0.0699192\n",
            "sex                          male\n",
            "age                          54.0\n",
            "n_siblings_spouses              0\n",
            "parch                           0\n",
            "fare                      51.8625\n",
            "class                       First\n",
            "deck                            E\n",
            "embark_town           Southampton\n",
            "alone                           y\n",
            "Name: 1, dtype: object\n",
            "0\n",
            "0.34218314\n",
            "sex                        female\n",
            "age                          58.0\n",
            "n_siblings_spouses              0\n",
            "parch                           0\n",
            "fare                        26.55\n",
            "class                       First\n",
            "deck                            C\n",
            "embark_town           Southampton\n",
            "alone                           y\n",
            "Name: 2, dtype: object\n",
            "1\n",
            "0.67769974\n",
            "sex                        female\n",
            "age                          55.0\n",
            "n_siblings_spouses              0\n",
            "parch                           0\n",
            "fare                         16.0\n",
            "class                      Second\n",
            "deck                      unknown\n",
            "embark_town           Southampton\n",
            "alone                           y\n",
            "Name: 3, dtype: object\n",
            "1\n",
            "0.60773695\n",
            "sex                          male\n",
            "age                          34.0\n",
            "n_siblings_spouses              0\n",
            "parch                           0\n",
            "fare                         13.0\n",
            "class                      Second\n",
            "deck                            D\n",
            "embark_town           Southampton\n",
            "alone                           y\n",
            "Name: 4, dtype: object\n",
            "1\n",
            "0.24964824\n",
            "sex                       female\n",
            "age                         15.0\n",
            "n_siblings_spouses             0\n",
            "parch                          0\n",
            "fare                      8.0292\n",
            "class                      Third\n",
            "deck                     unknown\n",
            "embark_town           Queenstown\n",
            "alone                          y\n",
            "Name: 5, dtype: object\n",
            "1\n",
            "0.7217603\n",
            "sex                        female\n",
            "age                           8.0\n",
            "n_siblings_spouses              3\n",
            "parch                           1\n",
            "fare                       21.075\n",
            "class                       Third\n",
            "deck                      unknown\n",
            "embark_town           Southampton\n",
            "alone                           n\n",
            "Name: 6, dtype: object\n",
            "0\n",
            "0.5499813\n",
            "sex                          male\n",
            "age                          21.0\n",
            "n_siblings_spouses              0\n",
            "parch                           0\n",
            "fare                         8.05\n",
            "class                       Third\n",
            "deck                      unknown\n",
            "embark_town           Southampton\n",
            "alone                           y\n",
            "Name: 7, dtype: object\n",
            "0\n",
            "0.09911164\n",
            "sex                        female\n",
            "age                          18.0\n",
            "n_siblings_spouses              2\n",
            "parch                           0\n",
            "fare                         18.0\n",
            "class                       Third\n",
            "deck                      unknown\n",
            "embark_town           Southampton\n",
            "alone                           n\n",
            "Name: 8, dtype: object\n",
            "0\n",
            "0.568687\n",
            "sex                       female\n",
            "age                         19.0\n",
            "n_siblings_spouses             0\n",
            "parch                          0\n",
            "fare                      7.8792\n",
            "class                      Third\n",
            "deck                     unknown\n",
            "embark_town           Queenstown\n",
            "alone                          y\n",
            "Name: 9, dtype: object\n",
            "1\n",
            "0.6991002\n"
          ]
        }
      ]
    },
    {
      "cell_type": "markdown",
      "source": [
        "We got 7 correct results out of 10 thus our model having 0.7~ chance of success through linear regression and the line of best fit"
      ],
      "metadata": {
        "id": "ee5hw6XWg3T8"
      }
    }
  ]
}